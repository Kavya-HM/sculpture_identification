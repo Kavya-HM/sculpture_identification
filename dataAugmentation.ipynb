{
 "cells": [
  {
   "cell_type": "code",
   "execution_count": 1,
   "id": "92eae6a1",
   "metadata": {},
   "outputs": [],
   "source": [
    "import os\n",
    "import numpy as np\n",
    "from keras.preprocessing.image import ImageDataGenerator, img_to_array, load_img"
   ]
  },
  {
   "cell_type": "code",
   "execution_count": 2,
   "id": "315feb52",
   "metadata": {},
   "outputs": [],
   "source": [
    "# Define the ImageDataGenerator for data augmentation\n",
    "data_aug_gen = ImageDataGenerator(\n",
    "        rotation_range=10,\n",
    "        zoom_range=0.1,\n",
    "        horizontal_flip=True,\n",
    "        width_shift_range=0.1,\n",
    "        height_shift_range=0.1,\n",
    "        shear_range=0.15,\n",
    "        fill_mode='nearest')"
   ]
  },
  {
   "cell_type": "code",
   "execution_count": 3,
   "id": "f8fb0312",
   "metadata": {},
   "outputs": [],
   "source": [
    "# Define the path for the input and output augmented images\n",
    "input_dir = \"C:/Users/HP/Desktop/FinalPro/newDataset\"\n",
    "output_dir = \"C:/Users/HP/Desktop/FinalPro/augImg\""
   ]
  },
  {
   "cell_type": "code",
   "execution_count": 5,
   "id": "d75b301b",
   "metadata": {},
   "outputs": [
    {
     "name": "stdout",
     "output_type": "stream",
     "text": [
      "['Garuda', 'Madanikas', 'Nandi', 'Narashimha', 'Vishnu']\n"
     ]
    }
   ],
   "source": [
    "#list of subdirectories in the dataset directory\n",
    "class_names = os.listdir(input_dir)\n",
    "print(class_names)"
   ]
  },
  {
   "cell_type": "code",
   "execution_count": 6,
   "id": "53623b66",
   "metadata": {},
   "outputs": [],
   "source": [
    "# Loop over each subdirectory and augment the images\n",
    "for class_name in class_names:\n",
    "    os.makedirs(os.path.join(output_dir, class_name))\n",
    "    class_path = os.path.join(input_dir, class_name)\n",
    "    for img_name in os.listdir(class_path):\n",
    "        img_path = os.path.join(class_path, img_name)\n",
    "        img = load_img(img_path)\n",
    "        x = img_to_array(img)\n",
    "        x = x.reshape((1,) + x.shape)\n",
    "        i = 0\n",
    "        for batch in data_aug_gen.flow(x, batch_size=1, save_to_dir=os.path.join(output_dir, class_name), save_prefix=img_name.split('.')[0], save_format='jpg'):\n",
    "            i += 1\n",
    "            if i > 10:\n",
    "                break\n"
   ]
  },
  {
   "cell_type": "code",
   "execution_count": null,
   "id": "407c2be7",
   "metadata": {},
   "outputs": [],
   "source": []
  },
  {
   "cell_type": "code",
   "execution_count": null,
   "id": "d9248a4c",
   "metadata": {},
   "outputs": [],
   "source": []
  }
 ],
 "metadata": {
  "kernelspec": {
   "display_name": "Python 3",
   "language": "python",
   "name": "python3"
  },
  "language_info": {
   "codemirror_mode": {
    "name": "ipython",
    "version": 3
   },
   "file_extension": ".py",
   "mimetype": "text/x-python",
   "name": "python",
   "nbconvert_exporter": "python",
   "pygments_lexer": "ipython3",
   "version": "3.8.8"
  }
 },
 "nbformat": 4,
 "nbformat_minor": 5
}
